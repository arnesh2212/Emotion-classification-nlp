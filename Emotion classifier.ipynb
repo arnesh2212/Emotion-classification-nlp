{
 "cells": [
  {
   "cell_type": "code",
   "execution_count": 97,
   "metadata": {},
   "outputs": [],
   "source": [
    "import pandas as pd\n",
    "import numpy as np\n",
    "import tensorflow as tf\n",
    "from tensorflow import keras\n",
    "\n",
    "from tensorflow.keras.preprocessing.text import Tokenizer\n",
    "from tensorflow.keras.preprocessing.sequence import pad_sequences\n",
    "import os\n",
    "from tensorflow.keras.utils import to_categorical\n",
    "import matplotlib.pyplot as plt\n",
    "\n"
   ]
  },
  {
   "cell_type": "code",
   "execution_count": 100,
   "metadata": {},
   "outputs": [
    {
     "data": {
      "text/plain": [
       "joy         5362\n",
       "sadness     4666\n",
       "anger       2159\n",
       "fear        1937\n",
       "love        1304\n",
       "surprise     572\n",
       "Name: Sentiment, dtype: int64"
      ]
     },
     "execution_count": 100,
     "metadata": {},
     "output_type": "execute_result"
    }
   ],
   "source": [
    "df_train = pd.read_csv('train.txt', header =None, sep =';', names = ['Input','Sentiment'], encoding='utf-8')\n",
    "df_test = pd.read_csv('test.txt', header = None, sep =';', names = ['Input','Sentiment'],encoding='utf-8')\n",
    "df_val=pd.read_csv('val.txt',header=None,sep=';',names=['Input','Sentiment'],encoding='utf-8')\n",
    "df_train.Sentiment.value_counts()"
   ]
  },
  {
   "cell_type": "code",
   "execution_count": 101,
   "metadata": {},
   "outputs": [],
   "source": [
    "X=df_train['Input']"
   ]
  },
  {
   "cell_type": "code",
   "execution_count": 106,
   "metadata": {},
   "outputs": [
    {
     "data": {
      "text/plain": [
       "15213"
      ]
     },
     "execution_count": 106,
     "metadata": {},
     "output_type": "execute_result"
    }
   ],
   "source": [
    "vocab_size = 15212\n",
    "tokenizer=Tokenizer(vocab_size,lower=True,oov_token='UNK')\n",
    "tokenizer.fit_on_texts(X)\n",
    "len(tokenizer.word_index)\n",
    "                       "
   ]
  },
  {
   "cell_type": "code",
   "execution_count": 110,
   "metadata": {},
   "outputs": [
    {
     "name": "stdout",
     "output_type": "stream",
     "text": [
      "[3 3 1 ... 0 1 3]\n"
     ]
    }
   ],
   "source": [
    "X_train=tokenizer.texts_to_sequences(X)\n",
    "X_train_pad=pad_sequences(X_train,maxlen=80,padding='post')\n",
    "df_train['Sentiment']=df_train.Sentiment.replace({'joy':0,'anger':1,'love':2,'sadness':3,'fear':4,'surprise':5})\n",
    "Y_train=df_train['Sentiment'].values\n",
    "print(Y_train)\n",
    "Y_train_f=to_categorical(Y_train)\n",
    "\n",
    "\n",
    "X_val=df_val['Input']\n",
    "Y_val=df_val.Sentiment.replace({'joy':0,'anger':1,'love':2,'sadness':3,'fear':4,'surprise':5})\n",
    "X_val_f=tokenizer.texts_to_sequences(X_val)\n",
    "X_val_pad=pad_sequences(X_val_f,maxlen=80,padding='post')\n",
    "Y_val_f=to_categorical(Y_val)"
   ]
  },
  {
   "cell_type": "code",
   "execution_count": 111,
   "metadata": {},
   "outputs": [
    {
     "name": "stdout",
     "output_type": "stream",
     "text": [
      "Model: \"sequential_7\"\n",
      "_________________________________________________________________\n",
      "Layer (type)                 Output Shape              Param #   \n",
      "=================================================================\n",
      "embedding_7 (Embedding)      (None, 80, 64)            973568    \n",
      "_________________________________________________________________\n",
      "dropout_7 (Dropout)          (None, 80, 64)            0         \n",
      "_________________________________________________________________\n",
      "bidirectional_14 (Bidirectio (None, 80, 160)           92800     \n",
      "_________________________________________________________________\n",
      "bidirectional_15 (Bidirectio (None, 320)               410880    \n",
      "_________________________________________________________________\n",
      "dense_7 (Dense)              (None, 6)                 1926      \n",
      "=================================================================\n",
      "Total params: 1,479,174\n",
      "Trainable params: 1,479,174\n",
      "Non-trainable params: 0\n",
      "_________________________________________________________________\n",
      "None\n"
     ]
    }
   ],
   "source": [
    "from keras.models import Sequential\n",
    "from keras.layers import LSTM,Bidirectional,Dense,Embedding,Dropout\n",
    "\n",
    "model=Sequential()\n",
    "model.add(Embedding(15212,64,input_length=80))\n",
    "model.add(Dropout(0.6))\n",
    "model.add(Bidirectional(LSTM(80,return_sequences=True)))\n",
    "model.add(Bidirectional(LSTM(160)))\n",
    "model.add(Dense(6,activation='softmax'))\n",
    "print(model.summary())"
   ]
  },
  {
   "cell_type": "code",
   "execution_count": 112,
   "metadata": {},
   "outputs": [
    {
     "name": "stdout",
     "output_type": "stream",
     "text": [
      "Epoch 1/12\n",
      "500/500 [==============================] - 20s 30ms/step - loss: 1.2410 - accuracy: 0.5254 - val_loss: 0.7095 - val_accuracy: 0.7390\n",
      "Epoch 2/12\n",
      "500/500 [==============================] - 14s 28ms/step - loss: 0.5046 - accuracy: 0.8247 - val_loss: 0.3027 - val_accuracy: 0.8950\n",
      "Epoch 3/12\n",
      "500/500 [==============================] - 14s 28ms/step - loss: 0.2790 - accuracy: 0.9001 - val_loss: 0.2343 - val_accuracy: 0.9145\n",
      "Epoch 4/12\n",
      "500/500 [==============================] - 14s 27ms/step - loss: 0.2077 - accuracy: 0.9242 - val_loss: 0.2009 - val_accuracy: 0.9240\n",
      "Epoch 5/12\n",
      "500/500 [==============================] - 14s 28ms/step - loss: 0.1671 - accuracy: 0.9388 - val_loss: 0.2165 - val_accuracy: 0.9195\n",
      "Epoch 6/12\n",
      "500/500 [==============================] - 14s 28ms/step - loss: 0.1468 - accuracy: 0.9452 - val_loss: 0.2067 - val_accuracy: 0.9225\n",
      "Epoch 7/12\n",
      "500/500 [==============================] - 14s 28ms/step - loss: 0.1307 - accuracy: 0.9504 - val_loss: 0.1892 - val_accuracy: 0.9235\n",
      "Epoch 8/12\n",
      "500/500 [==============================] - 14s 28ms/step - loss: 0.1044 - accuracy: 0.9607 - val_loss: 0.1894 - val_accuracy: 0.9275\n",
      "Epoch 9/12\n",
      "500/500 [==============================] - 14s 28ms/step - loss: 0.0935 - accuracy: 0.9644 - val_loss: 0.1842 - val_accuracy: 0.9290\n",
      "Epoch 10/12\n",
      "500/500 [==============================] - 14s 28ms/step - loss: 0.0847 - accuracy: 0.9671 - val_loss: 0.1681 - val_accuracy: 0.9320\n",
      "Epoch 11/12\n",
      "500/500 [==============================] - 14s 28ms/step - loss: 0.0766 - accuracy: 0.9707 - val_loss: 0.1884 - val_accuracy: 0.9320\n",
      "Epoch 12/12\n",
      "500/500 [==============================] - 14s 28ms/step - loss: 0.0684 - accuracy: 0.9741 - val_loss: 0.1630 - val_accuracy: 0.9350\n"
     ]
    }
   ],
   "source": [
    "model.compile(optimizer='adam',loss='categorical_crossentropy',metrics=['accuracy'])\n",
    "hist=model.fit(X_train_pad,Y_train_f,epochs=12,validation_data=(X_val_pad,Y_val_f))"
   ]
  },
  {
   "cell_type": "code",
   "execution_count": 114,
   "metadata": {},
   "outputs": [
    {
     "data": {
      "image/png": "[encoded data removed]",
      "text/plain": [
       "<Figure size 640x480 with 1 Axes>"
      ]
     },
     "metadata": {},
     "output_type": "display_data"
    }
   ],
   "source": [
    "model.save(\"model.h5\")\n",
    "plt.plot(hist.history['accuracy'],c='b',label='train')\n",
    "plt.plot(hist.history['val_accuracy'],c='r',label='validation')\n",
    "plt.legend(loc='lower right')\n",
    "plt.show()\n",
    "\n"
   ]
  },
  {
   "cell_type": "code",
   "execution_count": 124,
   "metadata": {},
   "outputs": [
    {
     "name": "stdin",
     "output_type": "stream",
     "text": [
      "Enter a sentence :  The movie was very satisfying and excited it was not expected and i am surprised\n"
     ]
    },
    {
     "name": "stdout",
     "output_type": "stream",
     "text": [
      "WARNING:tensorflow:6 out of the last 6 calls to <function Model.make_predict_function.<locals>.predict_function at 0x000001F7A09D38B0> triggered tf.function retracing. Tracing is expensive and the excessive number of tracings could be due to (1) creating @tf.function repeatedly in a loop, (2) passing tensors with different shapes, (3) passing Python objects instead of tensors. For (1), please define your @tf.function outside of the loop. For (2), @tf.function has experimental_relax_shapes=True option that relaxes argument shapes that can avoid unnecessary retracing. For (3), please refer to https://www.tensorflow.org/guide/function#controlling_retracing and https://www.tensorflow.org/api_docs/python/tf/function for  more details.\n",
      "The emotion predicted is joy\n"
     ]
    }
   ],
   "source": [
    "loaded = keras.models.load_model(\"model.h5\")\n",
    "def get_key(value):\n",
    "    dictionary={'joy':0,'anger':1,'love':2,'sadness':3,'fear':4,'surprise':5}\n",
    "    for key,val in dictionary.items():\n",
    "          if (val==value):\n",
    "            return key\n",
    "        \n",
    "        \n",
    "def predict(sentence):\n",
    "    sentence_lst=[]\n",
    "    sentence_lst.append(sentence)\n",
    "    sentence_seq=tokenizer.texts_to_sequences(sentence_lst)\n",
    "    sentence_padded=pad_sequences(sentence_seq,maxlen=80,padding='post')\n",
    "    ans=get_key(loaded.predict_classes(sentence_padded))\n",
    "    print(\"The emotion predicted is\",ans)\n",
    "    \n",
    "\n",
    "predict(str(input('Enter a sentence : ')))\n"
   ]
  },
  {
   "cell_type": "code",
   "execution_count": null,
   "metadata": {},
   "outputs": [],
   "source": []
  }
 ],
 "metadata": {
  "kernelspec": {
   "display_name": "ai",
   "language": "python",
   "name": "ai"
  },
  "language_info": {
   "codemirror_mode": {
    "name": "ipython",
    "version": 3
   },
   "file_extension": ".py",
   "mimetype": "text/x-python",
   "name": "python",
   "nbconvert_exporter": "python",
   "pygments_lexer": "ipython3",
   "version": "3.9.4"
  }
 },
 "nbformat": 4,
 "nbformat_minor": 4
}
